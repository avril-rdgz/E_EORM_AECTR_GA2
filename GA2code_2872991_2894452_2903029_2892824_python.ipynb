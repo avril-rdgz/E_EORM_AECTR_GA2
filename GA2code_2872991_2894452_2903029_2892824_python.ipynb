{
  "cells": [
    {
      "cell_type": "code",
      "execution_count": null,
      "metadata": {
        "id": "arff6sQ6rUZ7",
        "collapsed": true
      },
      "outputs": [],
      "source": [
        "# Put all library imports in this block!\n",
        "import pandas as pd\n",
        "import numdifftools as nd\n",
        "import numpy as np\n",
        "import matplotlib.pyplot as plt\n",
        "import matplotlib.patches as mpatches\n",
        "import math\n",
        "import matplotlib.dates as mdates\n",
        "import matplotlib.lines as mlines\n",
        "import random\n",
        "from scipy.optimize import minimize\n",
        "from statsmodels.stats.diagnostic import acorr_ljungbox\n",
        "from statsmodels.graphics.tsaplots import plot_acf\n",
        "from statsmodels.tsa.stattools import acf\n",
        "from sklearn.metrics import r2_score\n",
        "\n",
        "seed = 42\n",
        "np.random.seed(seed)\n",
        "random.seed(seed)"
      ]
    },
    {
      "cell_type": "code",
      "execution_count": null,
      "metadata": {
        "id": "vI5Yb833rrpu"
      },
      "outputs": [],
      "source": [
        "# Data prep\n",
        "data_vintage = pd.read_csv('2025-08-MD.csv')\n",
        "data_vintage = data_vintage[['sasdate', 'UNRATE', 'INDPRO']]\n",
        "data_vintage = data_vintage.iloc[1:].copy()\n",
        "\n",
        "df_log_diff = pd.DataFrame()\n",
        "df_log_diff['DATE'] = pd.to_datetime(data_vintage['sasdate'])\n",
        "df_log_diff['UNRATE'] = np.log(data_vintage['UNRATE']).diff()\n",
        "df_log_diff['INDPRO'] = np.log(data_vintage['INDPRO']).diff()\n",
        "df_log_diff = df_log_diff.iloc[1:].copy()\n",
        "\n",
        "display(df_log_diff.head())"
      ]
    },
    {
      "cell_type": "code",
      "execution_count": null,
      "metadata": {
        "id": "eEav3ueYuK1Q"
      },
      "outputs": [],
      "source": [
        "# Plotting log differences\n",
        "plt.figure(figsize=(10,5))\n",
        "\n",
        "## Unemployment rate\n",
        "plt.subplot(2,1,1)\n",
        "plt.plot(df_log_diff['DATE'], df_log_diff['UNRATE'], color='black')\n",
        "plt.title('Unemployment Rate')\n",
        "\n",
        "## Industrial production\n",
        "plt.subplot(2,1,2)\n",
        "plt.plot(df_log_diff['DATE'], df_log_diff['INDPRO'], color='black')\n",
        "plt.title('Industrial Production')\n",
        "\n",
        "plt.tight_layout()\n",
        "plt.show()"
      ]
    },
    {
      "cell_type": "markdown",
      "metadata": {
        "id": "_nFSFTu6wmW4"
      },
      "source": [
        "# Question 2"
      ]
    },
    {
      "cell_type": "code",
      "execution_count": 4,
      "metadata": {
        "id": "9wOG0KP38hz6"
      },
      "outputs": [],
      "source": [
        "model_names = ('AR(1)', 'SESTAR', 'STAR')\n",
        "\n",
        "def get_total_loss(theta, model_name, x, y = None):\n",
        "  mu, delta, gamma, alpha, beta = theta\n",
        "  x = np.asarray(x)\n",
        "  y = np.asarray(y)\n",
        "\n",
        "  div = 0\n",
        "\n",
        "  if model_name == 'SESTAR':\n",
        "    div = gamma / (1 + np.exp(alpha + beta * x[:-1]))\n",
        "  elif model_name == 'STAR':\n",
        "    div = gamma / (1 + np.exp(alpha + beta * y[:-1]))\n",
        "\n",
        "  resid = x[1:] - mu - (delta + div) * x[:-1]\n",
        "\n",
        "  return np.sum(resid**2)"
      ]
    },
    {
      "cell_type": "code",
      "execution_count": 5,
      "metadata": {
        "id": "gKtaKXyQwrKg"
      },
      "outputs": [],
      "source": [
        "def get_avg_total_loss(theta, model_name, x, y = None):\n",
        "     # The loss function is the average sum of squared residuals.\n",
        "  mu, delta, gamma, alpha, beta = theta\n",
        "  x = np.asarray(x)\n",
        "  y = np.asarray(y)\n",
        "\n",
        "  div = 0\n",
        "\n",
        "  if model_name == 'SESTAR':\n",
        "    div = gamma / (1 + np.exp(alpha + beta * x[:-1]))\n",
        "  elif model_name == 'STAR':\n",
        "    div = gamma / (1 + np.exp(alpha + beta * y[:-1]))\n",
        "\n",
        "  resid = x[1:] - mu - (delta + div) * x[:-1]\n",
        "\n",
        "  return np.mean(resid**2)"
      ]
    },
    {
      "cell_type": "code",
      "execution_count": null,
      "metadata": {
        "id": "D3aB6__NxBz6"
      },
      "outputs": [],
      "source": [
        "# Test point for total loss (OK)\n",
        "theta_star = (0, 0.3, 1, 0, 2)\n",
        "\n",
        "for model in model_names:\n",
        "  total_loss = get_total_loss(theta_star, model, df_log_diff['UNRATE'], df_log_diff['INDPRO'])\n",
        "  print(f'Total Loss for {model}: {total_loss:.6f}')"
      ]
    },
    {
      "cell_type": "code",
      "execution_count": null,
      "metadata": {
        "id": "h4gvu6qp3S82"
      },
      "outputs": [],
      "source": [
        "# Results for Q2\n",
        "\n",
        "theta_tilde = (0, 0.1, 2, 0, 3)\n",
        "results_Q2 = {}\n",
        "\n",
        "for model in model_names:\n",
        "  total_loss = get_total_loss(theta_tilde, model, df_log_diff['UNRATE'], df_log_diff['INDPRO'])\n",
        "  print(f'Total Loss for {model}: {total_loss:.6f}')\n",
        "\n",
        "  results_Q2[model] = {\n",
        "      'total_loss': total_loss\n",
        "  }"
      ]
    },
    {
      "cell_type": "markdown",
      "metadata": {
        "id": "Zr_SNUZ13kCl"
      },
      "source": [
        "# Question 3"
      ]
    },
    {
      "cell_type": "code",
      "execution_count": 8,
      "metadata": {
        "id": "pBprxXh34JLp"
      },
      "outputs": [],
      "source": [
        "def estimate_model(theta_init, model_name, x, y=None):\n",
        "\n",
        "  result = minimize(get_avg_total_loss,\n",
        "                    theta_init,\n",
        "                    args=(model_name, x, y),\n",
        "                    method='BFGS',\n",
        "                    options={'maxiter': 100,'gtol':1e-8})\n",
        "\n",
        "\n",
        "  if model_name not in model_names:\n",
        "    raise ValueError('Invalid model name specified.')\n",
        "\n",
        "  if not result.success:\n",
        "     print(f'\\nWarning: Optimization failed for {model_name}.')\n",
        "     print(f'Message: {result.message}\\n')\n",
        "  else:\n",
        "     print(f'\\nOptimization successful for {model_name}. Total Loss: {result.fun:.6f}\\n')\n",
        "\n",
        "  return result.x, result.fun\n",
        "\n",
        "def fit_values(theta, model_name, x, y=None):\n",
        "  mu, delta, gamma, alpha, beta = theta\n",
        "  x = np.asarray(x)\n",
        "  if y is not None: y = np.asarray(y)\n",
        "\n",
        "  div = np.zeros_like(x)\n",
        "  if model_name == 'SESTAR':\n",
        "    div[1:] = gamma / (1 + np.exp(alpha + beta * x[:-1]))\n",
        "  elif model_name == 'STAR':\n",
        "    div[1:] = gamma / (1 + np.exp(alpha + beta * y[:-1]))\n",
        "\n",
        "  x_fit = mu + (delta + div[1:]) * x[:-1]\n",
        "  x_fit = np.insert(x_fit, 0, mu / (1 - delta)) # Add 1st observation as unconditional mean\n",
        "\n",
        "  return x_fit\n"
      ]
    },
    {
      "cell_type": "code",
      "execution_count": null,
      "metadata": {
        "id": "0k7A1klv4eA5",
        "collapsed": true
      },
      "outputs": [],
      "source": [
        "# Results for Q3\n",
        "\n",
        "theta_init = (0, 0.3, 0, 0, 0)\n",
        "date = df_log_diff['DATE']\n",
        "x = df_log_diff['UNRATE']\n",
        "y = df_log_diff['INDPRO']\n",
        "\n",
        "recessions_periods = [\n",
        "    ('1973-11-01', '1975-03-31'),\n",
        "    ('1980-01-01', '1980-07-31'),\n",
        "    ('2007-12-01', '2009-06-30'),\n",
        "    ('2020-01-01', '2022-05-31')\n",
        "]\n",
        "\n",
        "results_Q3 = {}\n",
        "\n",
        "for model in model_names:\n",
        "\n",
        "  loss_init = get_avg_total_loss(theta_init, model, x, y)\n",
        "  print(f'Initial average loss: {loss_init:.6f}')\n",
        "\n",
        "  theta_optim, loss_optim = estimate_model(theta_init, model, x, y)\n",
        "\n",
        "  total_loss= get_total_loss(theta_optim, model, x, y)\n",
        "  print(f'Total loss: {total_loss:.6f}')\n",
        "\n",
        "\n",
        "  results_Q3[model] = {\n",
        "      'theta': theta_optim,\n",
        "      'optimize_loss': loss_optim,\n",
        "      'total_loss':total_loss\n",
        "  }\n",
        "\n",
        "\n",
        "\n",
        "  x_fitted = fit_values(theta_optim, model, x, y)\n",
        "\n",
        "  # Plotting actual vs fitted values\n",
        "  plt.figure(figsize=(10, 5))\n",
        "  plt.plot(date, x, label='Observed', color='black')\n",
        "  plt.plot(date, x_fitted, label=f'Fitted {model}', color='skyblue')\n",
        "\n",
        "  for start, end in recessions_periods:\n",
        "    plt.axvspan(pd.to_datetime(start), pd.to_datetime(end), color='red', alpha=0.3)\n",
        "\n",
        "  plt.xlabel('Date')\n",
        "  plt.ylabel('Log-Diff. of UNRATE')\n",
        "  plt.legend()\n",
        "\n",
        "  # Uncomment to store plot\n",
        "  # plt.savefig(f'Q3_UNRATE_fitted_{model}.png', bbox_inches='tight', dpi=300)\n",
        "  plt.show()\n",
        "\n",
        "  plt.close()\n",
        "\n",
        "theta_hat_star = np.asarray(results_Q3[\"STAR\"][\"theta\"])\n"
      ]
    },
    {
      "cell_type": "code",
      "execution_count": null,
      "metadata": {
        "id": "6Oqc8KUeKMOe"
      },
      "outputs": [],
      "source": [
        "for model, data in results_Q3.items():\n",
        "    print(f\"\\nModel: {model}\")\n",
        "    print(\"  Theta: [\" + \", \".join(f\"{val:.4f}\" for val in data['theta']) + \"]\")\n",
        "    print(f\"  Optimized Loss: {data['optimize_loss']:.4f}\")\n",
        "    print(f\"  Total Loss: {data['total_loss']:.4f}\")"
      ]
    },
    {
      "cell_type": "markdown",
      "metadata": {
        "id": "3cjjDtc1KQU7"
      },
      "source": [
        "# Question 4"
      ]
    },
    {
      "cell_type": "code",
      "execution_count": null,
      "metadata": {
        "id": "DiMlh80XKTIk"
      },
      "outputs": [],
      "source": [
        "assert \"STAR\" in results_Q3\n",
        "print(\"θ̂_STAR =\", results_Q3[\"STAR\"][\"theta\"])"
      ]
    },
    {
      "cell_type": "code",
      "execution_count": 12,
      "metadata": {
        "id": "XKrWMcFeZA24"
      },
      "outputs": [],
      "source": [
        "assert len(theta_hat_star) == 5\n",
        "date = pd.to_datetime(df_log_diff[\"DATE\"])"
      ]
    },
    {
      "cell_type": "code",
      "execution_count": null,
      "metadata": {
        "id": "PbZX-OfkZH0c"
      },
      "outputs": [],
      "source": [
        "# Results for Q4 (plot G_t and z_t with current θ̂_STAR)\n",
        "\n",
        "# Parameters and data\n",
        "mu, delta, gamma, alpha, beta = np.asarray(results_Q3[\"STAR\"][\"theta\"])\n",
        "date = pd.to_datetime(df_log_diff[\"DATE\"]).to_numpy()\n",
        "z    = df_log_diff[\"INDPRO\"].to_numpy()   # Δlog(INDPRO_t)\n",
        "\n",
        "# Logistic function\n",
        "def logistic(u):\n",
        "    u = np.clip(u, -30, 30)\n",
        "    return 1.0 / (1.0 + np.exp(u))\n",
        "\n",
        "# G_t (time-varying AR coefficient)\n",
        "G          = delta + gamma * logistic(alpha + beta * z[:-1])\n",
        "z_align    = z[1:]\n",
        "date_align = date[1:]\n",
        "\n",
        "# Color palette\n",
        "COL_G      = \"#d62728\"\n",
        "COL_Z      = \"#1f77b4\"\n",
        "COL_COVID  = \"black\"   # E64A19 soft orange\n",
        "COL_GRID   = \"#a6a6a6\"\n",
        "\n",
        "# Figure\n",
        "fig, ax = plt.subplots(figsize=(12, 5))\n",
        "ax.set_facecolor(\"#f8f8f8\")\n",
        "\n",
        "# Plot the two lines\n",
        "ln1, = ax.plot(date_align, G, color=COL_G, lw=1.4, ls=\"--\",\n",
        "               label=r\"Time-varying AR $(G_t)$\")\n",
        "ln2, = ax.plot(date_align, z_align, color=COL_Z, lw=1.2, ls=\"-\",\n",
        "               label=r\"Industrial Production Growth $\\Delta\\log(\\mathrm{INDPRO}_t)$\")\n",
        "\n",
        "# Axis styling\n",
        "ax.set_ylabel(\"Value\")\n",
        "ax.axhline(0, lw=0.8, color=COL_GRID, alpha=0.5)\n",
        "ax.grid(True, which=\"major\", linestyle=\"-\", linewidth=0.6, color=COL_GRID, alpha=0.35)\n",
        "\n",
        "# Auto-adjust y-limits\n",
        "ymin = min(z_align.min(), G.min())\n",
        "ymax = max(z_align.max(), G.max())\n",
        "pad  = 0.03 * (ymax - ymin if ymax > ymin else 1.0)\n",
        "ax.set_ylim(ymin - 0.5*pad, ymax + 1.0*pad)\n",
        "\n",
        "ax.xaxis.set_major_locator(mdates.YearLocator(base=5))\n",
        "ax.xaxis.set_major_formatter(mdates.DateFormatter(\"%Y\"))\n",
        "\n",
        "# COVID-19\n",
        "covid_start, covid_end = pd.Timestamp(\"2020-01-01\"), pd.Timestamp(\"2022-05-31\")\n",
        "ax.axvline(covid_start, color=COL_COVID, ls=\"--\", lw=1)\n",
        "ax.axvline(covid_end,   color=COL_COVID, ls=\"--\", lw=1)\n",
        "covid_legend = mlines.Line2D([], [], color=COL_COVID, ls=\"--\", lw=1,\n",
        "                             label=\"COVID-19 period\")\n",
        "\n",
        "# Legend and title\n",
        "ax.legend(handles=[ln1, ln2, covid_legend],\n",
        "          loc=\"lower left\", framealpha=0.9,\n",
        "          facecolor=\"white\", edgecolor=COL_GRID)\n",
        "ax.set_title(\"Time-varying AR Parameter vs Industrial Production Growth (STAR model)\")\n",
        "\n",
        "plt.tight_layout()\n",
        "plt.savefig(\"Q4_STAR_G_vs_INDPRO.png\",\n",
        "            dpi=300,\n",
        "            bbox_inches=\"tight\",\n",
        "            facecolor=\"white\",\n",
        "            pad_inches=0.05)\n",
        "plt.show()\n",
        "\n"
      ]
    },
    {
      "cell_type": "code",
      "execution_count": null,
      "metadata": {
        "id": "c8HmTO9IhQTy"
      },
      "outputs": [],
      "source": [
        "print(\"θ̂_STAR =\", results_Q3[\"STAR\"][\"theta\"])\n",
        "print(\"Lengths -> G:\", len(G), \" z_align:\", len(z_align), \" date_align:\", len(date_align))\n",
        "print(\"G_t stats -> min:\", np.nanmin(G), \" max:\", np.nanmax(G), \" mean:\", np.nanmean(G))\n",
        "\n",
        "# logistic∈(0,1)\n",
        "lo, hi = (delta + min(0, gamma), delta + max(0, gamma))\n",
        "print(\"Theoretical range approx:\", (lo, hi))\n",
        "\n",
        "# sign(dG/dz) = sign(-γβ)\n",
        "print(\"sign(dG/dz) =\", np.sign(-gamma * beta))\n"
      ]
    },
    {
      "cell_type": "markdown",
      "metadata": {
        "id": "me4Itneihz7Y"
      },
      "source": [
        "# Question 5"
      ]
    },
    {
      "cell_type": "code",
      "execution_count": null,
      "metadata": {
        "id": "dY1s_iBxh3VJ"
      },
      "outputs": [],
      "source": [
        "# Results for Q5 (SESTAR residuals, ACF (lags 1–12), and Ljung–Box test)\n",
        "\n",
        "# 1) Parameters and series\n",
        "theta_sestar = np.asarray(results_Q3[\"SESTAR\"][\"theta\"])\n",
        "mu, delta, gamma, alpha, beta = theta_sestar\n",
        "date = pd.to_datetime(df_log_diff[\"DATE\"])\n",
        "x = df_log_diff[\"UNRATE\"].to_numpy()\n",
        "\n",
        "# 2) Fitted values and residuals for SESTAR\n",
        "def logistic(u):\n",
        "    u = np.clip(u, -30, 30)\n",
        "    return 1.0 / (1.0 + np.exp(u))\n",
        "\n",
        "g = gamma * logistic(alpha + beta * x[:-1])\n",
        "x_hat = mu + (delta + g) * x[:-1]\n",
        "\n",
        "eps = np.empty_like(x, dtype=float)\n",
        "eps[:] = np.nan\n",
        "eps[1:] = x[1:] - x_hat                       # residuals aligned to t>=2\n",
        "\n",
        "# 3) Sample ACF up to lag 12\n",
        "eps_valid = eps[1:] - np.nanmean(eps[1:])     # demean, drop first NaN\n",
        "T = len(eps_valid)\n",
        "\n",
        "def sample_acf(series, max_lag):\n",
        "    denom = np.sum(series**2)\n",
        "    acfs = []\n",
        "    for h in range(1, max_lag+1):\n",
        "        num = np.sum(series[h:] * series[:-h])\n",
        "        acfs.append(num / denom)\n",
        "    return np.array(acfs)\n",
        "\n",
        "max_lag = 12\n",
        "rho = sample_acf(eps_valid, max_lag=max_lag)\n",
        "ci = 1.96 / np.sqrt(T)  # ~95% reference band for white noise\n",
        "\n",
        "# 4) Plot ACF bars (single, main figure)\n",
        "max_lag = 12\n",
        "acf_vals = acf(eps_valid, nlags=max_lag, fft=False)[1:]  # drop lag 0\n",
        "lags = np.arange(1, max_lag + 1)\n",
        "\n",
        "fig, ax = plt.subplots(figsize=(8, 4))\n",
        "plot_acf(eps_valid, lags=max_lag, ax=ax, fft=False, zero=False)\n",
        "ylim = 1.8 * np.nanmax(np.abs(acf_vals))\n",
        "ax.set_xticks(lags)\n",
        "ax.set_xticklabels([str(lag) for lag in lags])\n",
        "ax.set_ylim(-min(1, ylim), min(1, ylim))\n",
        "ax.set_xlabel(\"Lag\")\n",
        "ax.set_ylabel(r\"ACF of $\\hat{\\varepsilon}_t$\")\n",
        "ax.set_title(\"SESTAR residual ACF (lags 1–12)\")\n",
        "ax.grid(alpha=0.2)\n",
        "plt.tight_layout()\n",
        "plt.savefig(f'Q5_ACF_SESTAR.png', bbox_inches='tight', dpi=300)\n",
        "plt.show()\n",
        "\n",
        "\n",
        "print(\"Residual ACF values (lags 1–12):\")\n",
        "for h, r in zip(lags, acf_vals):\n",
        "    print(f\"lag {h:2d}: {r:+.4f}\")\n",
        "\n",
        "# 5) Ljung–Box test up to lag 12\n",
        "if acorr_ljungbox is not None:\n",
        "    lb = acorr_ljungbox(eps_valid, lags=[12], return_df=True)  # columns: lb_stat, lb_pvalue\n",
        "    print(lb)\n",
        "else:\n",
        "    print(\"statsmodels not available -> skipped Ljung–Box test.\")\n",
        "\n",
        "# 6) Print ACF values and CI\n",
        "print(\"\\nResidual ACF (lags 1..12):\")\n",
        "for h, r in zip(lags, rho):\n",
        "    print(f\"lag {h:2d}: {r:+.3f}\")\n",
        "print(f\"\\nApprox. 95% reference band: ±{ci:.3f}  (T={T})\")\n",
        "\n",
        "plt.show()\n"
      ]
    },
    {
      "cell_type": "markdown",
      "metadata": {
        "id": "2E_99Q_7EDnj"
      },
      "source": [
        "# Question 6"
      ]
    },
    {
      "cell_type": "code",
      "execution_count": null,
      "metadata": {
        "id": "ecb1ovbCEDnk",
        "scrolled": true
      },
      "outputs": [],
      "source": [
        "# Robust std errors\n",
        "x = df_log_diff['UNRATE'].to_numpy()\n",
        "y = df_log_diff['INDPRO'].to_numpy()\n",
        "\n",
        "\n",
        "def q_t(theta, model, x, y=None):\n",
        "    mu, delta, gamma, alpha, beta = theta\n",
        "    fitted = fit_values(theta, model, x, y)\n",
        "    resid = x[1:] - fitted[1:]\n",
        "    return resid**2\n",
        "\n",
        "# Newey–West estimator\n",
        "def nw(grad, p=12):\n",
        "    T= grad.shape[0]\n",
        "    Sigma0 = grad.T @ grad / T #lag 0\n",
        "    Sigma = Sigma0.copy()\n",
        "    for j in range(1, p+1):\n",
        "        coef = 1 - j/(p+1)\n",
        "        Sigmaj = (grad[j:].T @ grad[:-j]) / T #lag j\n",
        "        Sigma += coef * (Sigmaj + Sigmaj.T)\n",
        "    return Sigma\n",
        "\n",
        "def grad(theta, model, x, y=None):\n",
        "    q_fun = lambda param: q_t(param, model, x, y)\n",
        "    return nd.Jacobian(q_fun)(theta)\n",
        "\n",
        "def hessian_mean(theta, model, x, y=None):\n",
        "    q_mean = lambda param: q_t(param, model, x, y).mean()\n",
        "    return nd.Hessian(q_mean)(theta)   # (k × k)\n",
        "\n",
        "# Results for all the models\n",
        "robust_se = []\n",
        "\n",
        "for model in results_Q3.keys():\n",
        "    theta_hat = results_Q3[model]['theta']\n",
        "    q = q_t(theta_hat, model, x, y)\n",
        "    g = grad(theta_hat, model, x, y)\n",
        "    H = hessian_mean(theta_hat, model, x, y)\n",
        "    if model == 'AR(1)':\n",
        "        g = g[:, :2]\n",
        "        H = H[:2, :2]\n",
        "    Omega = np.linalg.inv(H)\n",
        "    Sigma = nw(g)\n",
        "    T = g.shape[0]\n",
        "    print(T)\n",
        "    var = (Omega @ Sigma @ Omega.T)/T\n",
        "    se = np.sqrt(np.diag(var))\n",
        "    robust_se.append((model, theta_hat, se, results_Q3[model]['total_loss']))\n"
      ]
    },
    {
      "cell_type": "code",
      "execution_count": 17,
      "metadata": {
        "id": "K9QTEPeqEDnk"
      },
      "outputs": [],
      "source": [
        "# R squared\n",
        "def r2_stats(model, theta):\n",
        "    x_fit = fit_values(theta, model, x, y)\n",
        "    R2 = r2_score(x, x_fit)\n",
        "    T = len(x)\n",
        "    k = 2 if model == 'AR(1)' else 5\n",
        "    R2_adj = 1 - (1 - R2) * (T - 1) / (T - k - 1)\n",
        "    return R2, R2_adj"
      ]
    },
    {
      "cell_type": "code",
      "execution_count": null,
      "metadata": {
        "id": "CI7UvjUHEDnk"
      },
      "outputs": [],
      "source": [
        "# Latex\n",
        "\n",
        "robust_dict = {m: {\"theta\": th, \"se\": se, \"loss\": loss} for (m, th, se, loss) in robust_se}\n",
        "\n",
        "def pad_params(model, theta, se):\n",
        "    if model == 'AR(1)':\n",
        "        theta = np.array([theta[0], theta[1], np.nan, np.nan, np.nan], dtype=float)\n",
        "        se    = np.array([se[0],    se[1],    np.nan, np.nan, np.nan], dtype=float)\n",
        "    return theta, se\n",
        "\n",
        "def fnum(v, digs=2):\n",
        "    return \"\" if v is None or np.isnan(v) else f\"{v:.{digs}f}\"\n",
        "\n",
        "def fse(v, digs=2):\n",
        "    return \"\" if v is None or np.isnan(v) else f\"({v:.{digs}f})\"\n",
        "\n",
        "col_titles   = ['AR', 'SESTAR', 'STAR']\n",
        "param_labels = [r'$\\mu$', r'$\\delta$', r'$\\gamma$', r'$\\alpha$', r'$\\beta$']\n",
        "\n",
        "table_data = {}\n",
        "for m in results_Q3.keys():\n",
        "    th, se = robust_dict[m][\"theta\"], robust_dict[m][\"se\"]\n",
        "    th, se = pad_params(m, th, se)\n",
        "    R2, R2_adj = r2_stats(m, th)\n",
        "    table_data[m] = {\n",
        "        \"theta\": th,\n",
        "        \"se\": se,\n",
        "        \"loss\": robust_dict[m][\"loss\"],\n",
        "        \"R2\": R2,\n",
        "        \"R2_adj\": R2_adj\n",
        "    }\n",
        "\n",
        "\n",
        "lines = []\n",
        "lines.append(r\"\\begin{table}[htbp]\")\n",
        "lines.append(r\"\\centering\")\n",
        "lines.append(r\"\\caption{Estimated parameters with the robust standard errors}\")\n",
        "lines.append(r\"\\begin{tabular}{lccc}\")\n",
        "lines.append(r\"\\toprule\")\n",
        "lines.append(r\" & \" + \" & \".join(col_titles) + r\" \\\\\")\n",
        "lines.append(r\"\\midrule\")\n",
        "\n",
        "for j, lab in enumerate(param_labels):\n",
        "    est_row = [lab]\n",
        "    se_row  = [\"\"]\n",
        "    for m in results_Q3.keys():\n",
        "        est_row.append(fnum(table_data[m][\"theta\"][j], 2))\n",
        "        se_row.append(fse(table_data[m][\"se\"][j], 2))\n",
        "    lines.append(\" & \".join(est_row) + r\" \\\\\")\n",
        "    lines.append(\" & \".join(se_row)  + r\" \\\\\")\n",
        "\n",
        "lines.append(r\"\\addlinespace\")\n",
        "stat_labels = [r\"\\emph{Loss}\", r\"$R^2$\", r\"$R^2_{\\text{adj}}$\"]\n",
        "for stat in stat_labels:\n",
        "    row = [stat]\n",
        "    for m in results_Q3.keys():\n",
        "        if stat == r\"\\emph{Loss}\":\n",
        "            row.append(fnum(table_data[m][\"loss\"], 2))\n",
        "        elif stat == r\"$R^2$\":\n",
        "            row.append(fnum(table_data[m][\"R2\"], 2))\n",
        "        else:\n",
        "            row.append(fnum(table_data[m][\"R2_adj\"], 2))\n",
        "    lines.append(\" & \".join(row) + r\" \\\\\")\n",
        "lines.append(r\"\\bottomrule\")\n",
        "lines.append(r\"\\end{tabular}\")\n",
        "lines.append(r\"\\end{table}\")\n",
        "\n",
        "tex_str = \"\\n\".join(lines)\n",
        "print(tex_str)\n",
        "\n",
        "with open(\"table1.tex\", \"w\", encoding=\"utf-8\") as f:\n",
        "    f.write(tex_str)"
      ]
    },
    {
      "cell_type": "markdown",
      "metadata": {
        "id": "7vBy5RyKEDnk"
      },
      "source": [
        "# Question 7\n"
      ]
    },
    {
      "cell_type": "code",
      "execution_count": null,
      "metadata": {
        "id": "a4ul4SvSEDnk"
      },
      "outputs": [],
      "source": [
        "# Wald test\n",
        "def two_sided_p_from_t(t):\n",
        "    return 2.0 * (1.0 - 0.5 * (1.0 + math.erf(abs(t) / math.sqrt(2.0))))\n",
        "\n",
        "rows = []\n",
        "for model in [\"SESTAR\", \"STAR\"]:\n",
        "    g_est = float(table_data[model][\"theta\"][2])\n",
        "    g_se  = float(table_data[model][\"se\"][2])\n",
        "    tval  = g_est / g_se\n",
        "    pval  = two_sided_p_from_t(tval)\n",
        "\n",
        "    rows.append({\n",
        "        \"Model\": model,\n",
        "        \"Parameter\": \"gamma\",\n",
        "        \"Estimate\": g_est,\n",
        "        \"SE (robust)\": g_se,\n",
        "        \"t-stat\": tval,\n",
        "        \"p-value\": pval\n",
        "    })\n",
        "\n",
        "\n",
        "Q7_wald = pd.DataFrame(rows)\n",
        "\n",
        "print(Q7_wald)\n"
      ]
    }
  ],
  "metadata": {
    "colab": {
      "provenance": []
    },
    "kernelspec": {
      "display_name": "Python (ga1_env)",
      "language": "python",
      "name": "ga1_env"
    },
    "language_info": {
      "codemirror_mode": {
        "name": "ipython",
        "version": 3
      },
      "file_extension": ".py",
      "mimetype": "text/x-python",
      "name": "python",
      "nbconvert_exporter": "python",
      "pygments_lexer": "ipython3",
      "version": "3.10.15"
    }
  },
  "nbformat": 4,
  "nbformat_minor": 0
}