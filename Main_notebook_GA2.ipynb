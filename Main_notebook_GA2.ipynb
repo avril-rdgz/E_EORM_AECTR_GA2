{
  "cells": [
    {
      "cell_type": "code",
      "execution_count": null,
      "metadata": {
        "id": "arff6sQ6rUZ7"
      },
      "outputs": [],
      "source": [
        "# Put all library imports in this block!\n",
        "import pandas as pd\n",
        "import numpy as np\n",
        "import matplotlib.pyplot as plt\n",
        "from scipy.optimize import minimize"
      ]
    },
    {
      "cell_type": "code",
      "execution_count": null,
      "metadata": {
        "id": "vI5Yb833rrpu"
      },
      "outputs": [],
      "source": [
        "# Data prep\n",
        "data_vintage = pd.read_csv('2025-08-MD.csv')\n",
        "data_vintage = data_vintage[['sasdate', 'UNRATE', 'INDPRO']]\n",
        "data_vintage = data_vintage.iloc[1:].copy()\n",
        "\n",
        "df_log_diff = pd.DataFrame()\n",
        "df_log_diff['DATE'] = pd.to_datetime(data_vintage['sasdate'])\n",
        "df_log_diff['UNRATE'] = np.log(data_vintage['UNRATE']).diff()\n",
        "df_log_diff['INDPRO'] = np.log(data_vintage['INDPRO']).diff()\n",
        "df_log_diff = df_log_diff.iloc[1:].copy()\n",
        "\n",
        "display(df_log_diff.head())"
      ]
    },
    {
      "cell_type": "code",
      "execution_count": null,
      "metadata": {
        "id": "eEav3ueYuK1Q"
      },
      "outputs": [],
      "source": [
        "# Plotting log differences\n",
        "plt.figure(figsize=(10,5))\n",
        "\n",
        "## Unemployment rate\n",
        "plt.subplot(2,1,1)\n",
        "plt.plot(df_log_diff['DATE'], df_log_diff['UNRATE'], color='black')\n",
        "plt.title('Unemployment Rate')\n",
        "\n",
        "## Industrial production\n",
        "plt.subplot(2,1,2)\n",
        "plt.plot(df_log_diff['DATE'], df_log_diff['INDPRO'], color='black')\n",
        "plt.title('Industrial Production')\n",
        "\n",
        "plt.tight_layout()\n",
        "plt.show()"
      ]
    },
    {
      "cell_type": "markdown",
      "metadata": {
        "id": "_nFSFTu6wmW4"
      },
      "source": [
        "# Question 2"
      ]
    },
    {
      "cell_type": "code",
      "execution_count": null,
      "metadata": {
        "id": "gKtaKXyQwrKg"
      },
      "outputs": [],
      "source": [
        "model_names = ('AR(1)', 'SESTAR', 'STAR')\n",
        "\n",
        "def get_total_loss(theta, model_name, x, y = None):\n",
        "  mu, delta, gamma, alpha, beta = theta\n",
        "  x = np.asarray(x)\n",
        "  y = np.asarray(y)\n",
        "\n",
        "  div = 0\n",
        "\n",
        "  if model_name == 'SESTAR':\n",
        "    div = gamma / (1 + np.exp(alpha + beta * x[:-1]))\n",
        "  elif model_name == 'STAR':\n",
        "    div = gamma / (1 + np.exp(alpha + beta * y[:-1]))\n",
        "\n",
        "  resid = x[1:] - mu - (delta + div) * x[:-1]\n",
        "\n",
        "  return np.sum(resid**2)"
      ]
    },
    {
      "cell_type": "code",
      "execution_count": null,
      "metadata": {
        "id": "D3aB6__NxBz6"
      },
      "outputs": [],
      "source": [
        "# Test point for total loss (OK)\n",
        "theta_star = (0, 0.3, 1, 0, 2)\n",
        "\n",
        "for model in model_names:\n",
        "  total_loss = get_total_loss(theta_star, model, df_log_diff['UNRATE'], df_log_diff['INDPRO'])\n",
        "  print(f'Total Loss for {model}: {total_loss:.6f}')"
      ]
    },
    {
      "cell_type": "code",
      "execution_count": null,
      "metadata": {
        "id": "h4gvu6qp3S82"
      },
      "outputs": [],
      "source": [
        "# Results for Q2\n",
        "\n",
        "theta_tilde = (0, 0.1, 2, 0, 3)\n",
        "results_Q2 = {}\n",
        "\n",
        "for model in model_names:\n",
        "  total_loss = get_total_loss(theta_tilde, model, df_log_diff['UNRATE'], df_log_diff['INDPRO'])\n",
        "  print(f'Total Loss for {model}: {total_loss:.6f}')\n",
        "\n",
        "  results_Q2[model] = {\n",
        "      'total_loss': total_loss\n",
        "  }"
      ]
    },
    {
      "cell_type": "markdown",
      "metadata": {
        "id": "Zr_SNUZ13kCl"
      },
      "source": [
        "# Question 3"
      ]
    },
    {
      "cell_type": "code",
      "execution_count": null,
      "metadata": {
        "id": "pBprxXh34JLp"
      },
      "outputs": [],
      "source": [
        "def estimate_model(theta_init, model_name, x, y=None):\n",
        "\n",
        "  result = minimize(get_total_loss,\n",
        "                    theta_init,\n",
        "                    args=(model_name, x, y),\n",
        "                    method='L-BFGS-B')\n",
        "\n",
        "  if model_name not in model_names:\n",
        "    raise ValueError('Invalid model name specified.')\n",
        "\n",
        "  if not result.success:\n",
        "    print(f'\\nWarning: Optimization failed for {model_name}.')\n",
        "    print(f'Message: {result.message}\\n')\n",
        "  else:\n",
        "    print(f'\\nOptimization successful for {model_name}. Total Loss: {result.fun:.6f}\\n')\n",
        "\n",
        "  return result.x, result.fun\n",
        "\n",
        "def fit_values(theta, model_name, x, y=None):\n",
        "  mu, delta, gamma, alpha, beta = theta\n",
        "  x = np.asarray(x)\n",
        "  if y is not None: y = np.asarray(y)\n",
        "\n",
        "  div = np.zeros_like(x)\n",
        "  if model_name == 'SESTAR':\n",
        "    div[1:] = gamma / (1 + np.exp(alpha + beta * x[:-1]))\n",
        "  elif model_name == 'STAR':\n",
        "    div[1:] = gamma / (1 + np.exp(alpha + beta * y[:-1]))\n",
        "\n",
        "  x_fit = mu + (delta + div) * x\n",
        "\n",
        "  # Replace 1st observation w/ unconditional mean to remove spike\n",
        "  if model_name == 'SESTAR':\n",
        "    x_fit[0] = mu / (1 - delta)\n",
        "\n",
        "  return x_fit\n"
      ]
    },
    {
      "cell_type": "code",
      "execution_count": null,
      "metadata": {
        "id": "0k7A1klv4eA5"
      },
      "outputs": [],
      "source": [
        "# Results for Q3\n",
        "\n",
        "theta_init = (0, 0.3, 0, 0, 6)\n",
        "date = df_log_diff['DATE']\n",
        "x = df_log_diff['UNRATE']\n",
        "y = df_log_diff['INDPRO']\n",
        "\n",
        "recessions_periods = [\n",
        "    ('1973-11-01', '1975-03-31'),\n",
        "    ('1980-01-01', '1980-07-31'),\n",
        "    ('2007-12-01', '2009-06-30'),\n",
        "    ('2020-01-01', '2022-05-31')\n",
        "]\n",
        "\n",
        "results_Q3 = {}\n",
        "\n",
        "for model in model_names:\n",
        "\n",
        "  loss_init = get_total_loss(theta_init, model, x, y)\n",
        "  print(f'Initial loss: {loss_init:.6f}')\n",
        "\n",
        "  theta_optim, loss_optim = estimate_model(theta_init, model, x, y)\n",
        "  results_Q3[model] = {\n",
        "      'theta': theta_optim,\n",
        "      'total_loss': loss_optim\n",
        "  }\n",
        "\n",
        "  x_fitted = fit_values(theta_optim, model, x, y)\n",
        "\n",
        "  # Plotting actual vs fitted values\n",
        "  plt.figure(figsize=(10, 5))\n",
        "  plt.plot(date, x, label='Observed', color='black')\n",
        "  plt.plot(date, x_fitted, label=f'Fitted {model}', color='blue')\n",
        "\n",
        "  for start, end in recessions_periods:\n",
        "    plt.axvspan(pd.to_datetime(start), pd.to_datetime(end), color='red', alpha=0.3)\n",
        "\n",
        "  plt.xlabel('Date')\n",
        "  plt.ylabel('Log-Diff. of UNRATE')\n",
        "  plt.legend()\n",
        "\n",
        "  # Uncomment to store plot\n",
        "  plt.savefig(f'UNRATE_fitted_{model}.png', bbox_inches='tight', dpi=300)\n",
        "  plt.show()\n",
        "\n",
        "  plt.close()\n",
        "\n",
        "# Results for Q3\n",
        "\n",
        "theta_init = (0, 0.3, 0, 0, 6)\n",
        "date = df_log_diff['DATE']\n",
        "x = df_log_diff['UNRATE']\n",
        "y = df_log_diff['INDPRO']\n",
        "\n",
        "recessions_periods = [\n",
        "    ('1973-11-01', '1975-03-31'),\n",
        "    ('1980-01-01', '1980-07-31'),\n",
        "    ('2007-12-01', '2009-06-30'),\n",
        "    ('2020-01-01', '2022-05-31')\n",
        "]\n",
        "\n",
        "results_Q3 = {}\n",
        "\n",
        "for model in model_names:\n",
        "\n",
        "  loss_init = get_total_loss(theta_init, model, x, y)\n",
        "  print(f'Initial loss: {loss_init:.6f}')\n",
        "\n",
        "  theta_optim, loss_optim = estimate_model(theta_init, model, x, y)\n",
        "  results_Q3[model] = {\n",
        "      'theta': theta_optim,\n",
        "      'total_loss': loss_optim\n",
        "  }\n",
        "\n",
        "  x_fitted = fit_values(theta_optim, model, x, y)\n",
        "\n",
        "  # Plotting actual vs fitted values\n",
        "  plt.figure(figsize=(10, 5))\n",
        "  plt.plot(date, x, label='Observed', color='black')\n",
        "  plt.plot(date, x_fitted, label=f'Fitted {model}', color='blue')\n",
        "\n",
        "  for start, end in recessions_periods:\n",
        "    plt.axvspan(pd.to_datetime(start), pd.to_datetime(end), color='red', alpha=0.3)\n",
        "\n",
        "  plt.xlabel('Date')\n",
        "  plt.ylabel('Log-Diff. of UNRATE')\n",
        "  plt.legend()\n",
        "\n",
        "  # Uncomment to store plot\n",
        "  plt.savefig(f'UNRATE_fitted_{model}.png', bbox_inches='tight', dpi=300)\n",
        "  plt.show()\n",
        "\n",
        "  plt.close()\n",
        "\n",
        "theta_hat_star = np.asarray(results_Q3[\"STAR\"][\"theta\"])\n"
      ]
    },
    {
      "cell_type": "markdown",
      "source": [],
      "metadata": {
        "id": "6Oqc8KUeKMOe"
      }
    },
    {
      "cell_type": "markdown",
      "source": [
        "# Question 4"
      ],
      "metadata": {
        "id": "3cjjDtc1KQU7"
      }
    },
    {
      "cell_type": "code",
      "source": [
        "assert \"STAR\" in results_Q3\n",
        "print(\"θ̂_STAR =\", results_Q3[\"STAR\"][\"theta\"])\n"
      ],
      "metadata": {
        "id": "DiMlh80XKTIk"
      },
      "execution_count": null,
      "outputs": []
    },
    {
      "cell_type": "code",
      "source": [
        "assert len(theta_hat_star) == 5\n",
        "\n",
        "date = pd.to_datetime(df_log_diff[\"DATE\"])\n"
      ],
      "metadata": {
        "id": "XKrWMcFeZA24"
      },
      "execution_count": null,
      "outputs": []
    },
    {
      "cell_type": "code",
      "source": [
        "# Results for Q4 (plot G_t and z_t with current θ̂_STAR)\n",
        "\n",
        "# 1) Parameters and series\n",
        "mu, delta, gamma, alpha, beta = np.asarray(results_Q3[\"STAR\"][\"theta\"])\n",
        "date = pd.to_datetime(df_log_diff[\"DATE\"])\n",
        "z = df_log_diff[\"INDPRO\"].to_numpy()\n",
        "\n",
        "# 2) Logistic and alignment\n",
        "def logistic(u):\n",
        "    \"\"\"1/(1+exp(u)) with clipping for numerical stability.\"\"\"\n",
        "    u = np.clip(u, -30, 30)\n",
        "    return 1.0 / (1.0 + np.exp(u))\n",
        "\n",
        "G          = delta + gamma * logistic(alpha + beta * z[:-1])  # length T-1 uses z_{t-1}\n",
        "z_align    = z[1:]                                            # aligned with G_t\n",
        "date_align = date[1:]\n",
        "\n",
        "# 3) Colors (colorblind-safe + warmer orange-red for COVID)\n",
        "COL_G      = \"#0072B2\"  # G_t\n",
        "COL_DELTA  = \"#595959\"  # δ baseline\n",
        "COL_Z      = \"#009E73\"  # z_t\n",
        "COL_COVID  = \"#E64A19\"  # COVID period (orange-red)\n",
        "\n",
        "# 4) Plot\n",
        "fig, ax1 = plt.subplots(figsize=(10, 4))\n",
        "\n",
        "(ln1,) = ax1.plot(date_align, G, color=COL_G, lw=1.8,\n",
        "                  label=r\"$G(z_{t-1}, \\hat{\\theta})$\")\n",
        "ln2 = ax1.axhline(delta, color=COL_DELTA, lw=1.2, ls=\"--\",\n",
        "                  label=r\"$\\delta$ baseline\")\n",
        "ax1.set_ylabel(r\"Time-varying AR coefficient $G_t$\")\n",
        "ax1.grid(alpha=0.25)\n",
        "\n",
        "ax2 = ax1.twinx()\n",
        "(ln3,) = ax2.plot(date_align, z_align, color=COL_Z, lw=1.2, ls=\":\",\n",
        "                  label=r\"$\\Delta\\log(\\mathrm{INDPRO})\\,(z_t)$\")\n",
        "ax2.set_ylabel(r\"Industrial production growth $z_t$\")\n",
        "\n",
        "# COVID shading + legend handle\n",
        "cov_patch = mpatches.Patch(color=COL_COVID, alpha=0.12, label=\"COVID-19 period\")\n",
        "ax1.axvspan(pd.Timestamp(\"2020-01-01\"), pd.Timestamp(\"2022-05-31\"),\n",
        "            color=COL_COVID, alpha=0.12, zorder=0)\n",
        "\n",
        "# Title & legend (bottom-left)\n",
        "ax1.set_title(r\"STAR: $G_t$ vs. $\\Delta\\log(\\mathrm{INDPRO})$\")\n",
        "handles = [ln1, ln2, ln3, cov_patch]\n",
        "labels  = [h.get_label() for h in handles]\n",
        "ax1.legend(handles, labels, loc=\"lower left\", frameon=False)\n",
        "\n",
        "plt.tight_layout()\n",
        "plt.show()\n",
        "\n",
        "# Save figure\n",
        "fig.savefig(\"Q4_STAR_G_vs_INDPRO.png\", dpi=300, bbox_inches=\"tight\")\n",
        "plt.show()\n",
        "plt.close(fig)"
      ],
      "metadata": {
        "id": "PbZX-OfkZH0c"
      },
      "execution_count": null,
      "outputs": []
    },
    {
      "cell_type": "code",
      "source": [
        "print(\"θ̂_STAR =\", results_Q3[\"STAR\"][\"theta\"])\n",
        "print(\"Lengths -> G:\", len(G), \" z_align:\", len(z_align), \" date_align:\", len(date_align))\n",
        "print(\"G_t stats -> min:\", np.nanmin(G), \" max:\", np.nanmax(G), \" mean:\", np.nanmean(G))\n",
        "\n",
        "# logistic∈(0,1)\n",
        "lo, hi = (delta + min(0, gamma), delta + max(0, gamma))\n",
        "print(\"Theoretical range approx:\", (lo, hi))\n",
        "\n",
        "# sign(dG/dz) = sign(-γβ)\n",
        "print(\"sign(dG/dz) =\", np.sign(-gamma * beta))\n"
      ],
      "metadata": {
        "id": "c8HmTO9IhQTy"
      },
      "execution_count": null,
      "outputs": []
    },
    {
      "cell_type": "markdown",
      "source": [
        "# Question 5"
      ],
      "metadata": {
        "id": "me4Itneihz7Y"
      }
    },
    {
      "cell_type": "code",
      "source": [
        "# Results for Q5 (SESTAR residuals, ACF (lags 1–12), and Ljung–Box test)\n",
        "\n",
        "# Ljung–Box - if unavailable = skip\n",
        "try:\n",
        "    from statsmodels.stats.diagnostic import acorr_ljungbox\n",
        "except Exception:\n",
        "    acorr_ljungbox = None\n",
        "\n",
        "# 1) Read parameters and series\n",
        "theta_sestar = np.asarray(results_Q3[\"SESTAR\"][\"theta\"])\n",
        "mu, delta, gamma, alpha, beta = theta_sestar\n",
        "date = pd.to_datetime(df_log_diff[\"DATE\"])\n",
        "x = df_log_diff[\"UNRATE\"].to_numpy()\n",
        "\n",
        "# 2) Fitted values and residuals for SESTAR\n",
        "def logistic(u):\n",
        "    u = np.clip(u, -30, 30)\n",
        "    return 1.0 / (1.0 + np.exp(u))\n",
        "\n",
        "g = gamma * logistic(alpha + beta * x[:-1])\n",
        "x_hat = mu + (delta + g) * x[:-1]\n",
        "\n",
        "eps = np.empty_like(x, dtype=float)\n",
        "eps[:] = np.nan\n",
        "eps[1:] = x[1:] - x_hat                       # residuals aligned to t>=2\n",
        "\n",
        "# 3) Sample ACF up to lag 12\n",
        "eps_valid = eps[1:] - np.nanmean(eps[1:])     # demean, drop first NaN\n",
        "T = len(eps_valid)\n",
        "\n",
        "def sample_acf(series, max_lag):\n",
        "    denom = np.sum(series**2)\n",
        "    acfs = []\n",
        "    for h in range(1, max_lag+1):\n",
        "        num = np.sum(series[h:] * series[:-h])\n",
        "        acfs.append(num / denom)\n",
        "    return np.array(acfs)\n",
        "\n",
        "max_lag = 12\n",
        "rho = sample_acf(eps_valid, max_lag=max_lag)\n",
        "ci = 1.96 / np.sqrt(T)  # ~95% reference band for white noise\n",
        "\n",
        "# 4) Plot ACF bars (single, main figure)\n",
        "lags = np.arange(1, max_lag+1)\n",
        "fig, ax = plt.subplots(figsize=(8, 4))\n",
        "ax.bar(lags, rho, width=0.6, color=\"#0072B2\", edgecolor=\"#0072B2\", alpha=0.85)\n",
        "ax.axhline(0, color=\"#595959\", lw=1)\n",
        "ax.axhline(+ci, color=\"#595959\", lw=1, ls=\"--\")\n",
        "ax.axhline(-ci, color=\"#595959\", lw=1, ls=\"--\")\n",
        "ax.set_xlim(0.4, max_lag + 0.6)\n",
        "ax.set_xlabel(\"Lag\")\n",
        "ax.set_ylabel(r\"ACF of $\\hat{\\varepsilon}_t$\")\n",
        "ax.set_title(\"SESTAR residual ACF (lags 1–12)\")\n",
        "plt.tight_layout()\n",
        "plt.show()\n",
        "\n",
        "# 5) Ljung–Box test up to lag 12\n",
        "if acorr_ljungbox is not None:\n",
        "    lb = acorr_ljungbox(eps_valid, lags=[12], return_df=True)  # columns: lb_stat, lb_pvalue\n",
        "    print(lb)\n",
        "else:\n",
        "    print(\"statsmodels not available -> skipped Ljung–Box test.\")\n",
        "\n",
        "# 6) Print ACF values and CI\n",
        "print(\"\\nResidual ACF (lags 1..12):\")\n",
        "for h, r in zip(lags, rho):\n",
        "    print(f\"lag {h:2d}: {r:+.3f}\")\n",
        "print(f\"\\nApprox. 95% reference band: ±{ci:.3f}  (T={T})\")\n",
        "\n",
        "# Save figure\n",
        "fig.savefig(\"Q5_SESTAR_ACF.png\", dpi=300, bbox_inches=\"tight\")\n",
        "plt.show()\n",
        "plt.close(fig)"
      ],
      "metadata": {
        "id": "dY1s_iBxh3VJ"
      },
      "execution_count": null,
      "outputs": []
    }
  ],
  "metadata": {
    "colab": {
      "provenance": []
    },
    "kernelspec": {
      "display_name": "Python (ga1_env)",
      "language": "python",
      "name": "ga1_env"
    },
    "language_info": {
      "codemirror_mode": {
        "name": "ipython",
        "version": 3
      },
      "file_extension": ".py",
      "mimetype": "text/x-python",
      "name": "python",
      "nbconvert_exporter": "python",
      "pygments_lexer": "ipython3",
      "version": "3.10.15"
    }
  },
  "nbformat": 4,
  "nbformat_minor": 0
}